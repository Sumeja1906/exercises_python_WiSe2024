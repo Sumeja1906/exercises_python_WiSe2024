{
 "cells": [
  {
   "cell_type": "code",
   "execution_count": null,
   "id": "d5d62b88",
   "metadata": {},
   "outputs": [],
   "source": [
    "import pandas as pd # Strg + Eingabe Taste um auszuführen"
   ]
  },
  {
   "cell_type": "code",
   "execution_count": 1,
   "id": "2500393f",
   "metadata": {},
   "outputs": [
    {
     "ename": "NameError",
     "evalue": "name 'pd' is not defined",
     "output_type": "error",
     "traceback": [
      "\u001b[1;31m---------------------------------------------------------------------------\u001b[0m",
      "\u001b[1;31mNameError\u001b[0m                                 Traceback (most recent call last)",
      "Cell \u001b[1;32mIn[1], line 2\u001b[0m\n\u001b[0;32m      1\u001b[0m index \u001b[38;5;241m=\u001b[39m [\u001b[38;5;124m\"\u001b[39m\u001b[38;5;124mBerlin\u001b[39m\u001b[38;5;124m\"\u001b[39m, \u001b[38;5;124m\"\u001b[39m\u001b[38;5;124mMadrid\u001b[39m\u001b[38;5;124m\"\u001b[39m, \u001b[38;5;124m\"\u001b[39m\u001b[38;5;124mRom\u001b[39m\u001b[38;5;124m\"\u001b[39m]\n\u001b[1;32m----> 2\u001b[0m bevölkerung  \u001b[38;5;241m=\u001b[39m pd\u001b[38;5;241m.\u001b[39mSeries(data \u001b[38;5;241m=\u001b[39m [\u001b[38;5;241m3.6\u001b[39m, \u001b[38;5;241m3.3\u001b[39m, \u001b[38;5;241m2.8\u001b[39m], index \u001b[38;5;241m=\u001b[39m index)\n\u001b[0;32m      3\u001b[0m fläche \u001b[38;5;241m=\u001b[39m pd\u001b[38;5;241m.\u001b[39mSeries(data \u001b[38;5;241m=\u001b[39m [\u001b[38;5;241m892\u001b[39m, \u001b[38;5;241m604\u001b[39m, \u001b[38;5;241m1285\u001b[39m], index \u001b[38;5;241m=\u001b[39m index)\n\u001b[0;32m      4\u001b[0m land \u001b[38;5;241m=\u001b[39m pd\u001b[38;5;241m.\u001b[39mSeries(data \u001b[38;5;241m=\u001b[39m [\u001b[38;5;124m\"\u001b[39m\u001b[38;5;124mDeutschland\u001b[39m\u001b[38;5;124m\"\u001b[39m, \u001b[38;5;124m\"\u001b[39m\u001b[38;5;124mSpanien\u001b[39m\u001b[38;5;124m\"\u001b[39m, \u001b[38;5;124m\"\u001b[39m\u001b[38;5;124mItalien\u001b[39m\u001b[38;5;124m\"\u001b[39m], index \u001b[38;5;241m=\u001b[39m index)\n",
      "\u001b[1;31mNameError\u001b[0m: name 'pd' is not defined"
     ]
    }
   ],
   "source": []
  },
  {
   "cell_type": "code",
   "execution_count": 2,
   "id": "ce0bf894",
   "metadata": {},
   "outputs": [
    {
     "ename": "NameError",
     "evalue": "name 'pd' is not defined",
     "output_type": "error",
     "traceback": [
      "\u001b[1;31m---------------------------------------------------------------------------\u001b[0m",
      "\u001b[1;31mNameError\u001b[0m                                 Traceback (most recent call last)",
      "Cell \u001b[1;32mIn[2], line 2\u001b[0m\n\u001b[0;32m      1\u001b[0m index \u001b[38;5;241m=\u001b[39m [\u001b[38;5;124m\"\u001b[39m\u001b[38;5;124mBerlin\u001b[39m\u001b[38;5;124m\"\u001b[39m, \u001b[38;5;124m\"\u001b[39m\u001b[38;5;124mMadrid\u001b[39m\u001b[38;5;124m\"\u001b[39m, \u001b[38;5;124m\"\u001b[39m\u001b[38;5;124mRom\u001b[39m\u001b[38;5;124m\"\u001b[39m]\n\u001b[1;32m----> 2\u001b[0m bevölkerung  \u001b[38;5;241m=\u001b[39m pd\u001b[38;5;241m.\u001b[39mSeries(data \u001b[38;5;241m=\u001b[39m [\u001b[38;5;241m3.6\u001b[39m, \u001b[38;5;241m3.3\u001b[39m, \u001b[38;5;241m2.8\u001b[39m], index \u001b[38;5;241m=\u001b[39m index)\n\u001b[0;32m      3\u001b[0m fläche \u001b[38;5;241m=\u001b[39m pd\u001b[38;5;241m.\u001b[39mSeries(data \u001b[38;5;241m=\u001b[39m [\u001b[38;5;241m892\u001b[39m, \u001b[38;5;241m604\u001b[39m, \u001b[38;5;241m1285\u001b[39m], index \u001b[38;5;241m=\u001b[39m index)\n\u001b[0;32m      4\u001b[0m land \u001b[38;5;241m=\u001b[39m pd\u001b[38;5;241m.\u001b[39mSeries(data \u001b[38;5;241m=\u001b[39m [\u001b[38;5;124m\"\u001b[39m\u001b[38;5;124mDeutschland\u001b[39m\u001b[38;5;124m\"\u001b[39m, \u001b[38;5;124m\"\u001b[39m\u001b[38;5;124mSpanien\u001b[39m\u001b[38;5;124m\"\u001b[39m, \u001b[38;5;124m\"\u001b[39m\u001b[38;5;124mItalien\u001b[39m\u001b[38;5;124m\"\u001b[39m], index \u001b[38;5;241m=\u001b[39m index)\n",
      "\u001b[1;31mNameError\u001b[0m: name 'pd' is not defined"
     ]
    }
   ],
   "source": []
  },
  {
   "cell_type": "code",
   "execution_count": null,
   "id": "1bd9944a",
   "metadata": {},
   "outputs": [],
   "source": []
  }
 ],
 "metadata": {
  "kernelspec": {
   "display_name": "Python 3 (ipykernel)",
   "language": "python",
   "name": "python3"
  },
  "language_info": {
   "codemirror_mode": {
    "name": "ipython",
    "version": 3
   },
   "file_extension": ".py",
   "mimetype": "text/x-python",
   "name": "python",
   "nbconvert_exporter": "python",
   "pygments_lexer": "ipython3",
   "version": "3.11.5"
  }
 },
 "nbformat": 4,
 "nbformat_minor": 5
}
